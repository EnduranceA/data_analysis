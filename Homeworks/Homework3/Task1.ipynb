{
 "cells": [
  {
   "cell_type": "markdown",
   "metadata": {},
   "source": [
    "1. Подключаем библиотеки"
   ]
  },
  {
   "cell_type": "code",
   "execution_count": 2,
   "metadata": {},
   "outputs": [],
   "source": [
    "import numpy as np\n",
    "import pandas as pd\n",
    "import pylab as pl\n",
    "import matplotlib.pyplot as plt\n",
    "plt.style.use('ggplot')\n",
    "%matplotlib inline\n",
    "import seaborn as sns\n",
    "\n",
    "from sklearn.tree import DecisionTreeClassifier\n",
    "from sklearn.ensemble import RandomForestClassifier\n",
    "from sklearn.model_selection import train_test_split\n",
    "from sklearn.metrics import accuracy_score\n",
    "\n",
    "from sklearn.preprocessing import LabelEncoder\n",
    "from sklearn.preprocessing import OneHotEncoder"
   ]
  },
  {
   "cell_type": "markdown",
   "metadata": {},
   "source": [
    "2. Считываем данные"
   ]
  },
  {
   "cell_type": "code",
   "execution_count": 3,
   "metadata": {},
   "outputs": [],
   "source": [
    "df=pd.read_csv(\"D:\\Анализ данных\\data_analysis\\Homeworks\\Homework3\\ORGANICS.csv\",encoding=\"cp1251\")"
   ]
  },
  {
   "cell_type": "markdown",
   "metadata": {},
   "source": [
    "3. Заменяем Nan усредненными значениями (fillna())"
   ]
  },
  {
   "cell_type": "code",
   "execution_count": 4,
   "metadata": {},
   "outputs": [],
   "source": [
    "df = df.fillna(df.median(axis=0), axis=0)"
   ]
  },
  {
   "cell_type": "markdown",
   "metadata": {},
   "source": [
    "4. Выбираем количественные столбцы"
   ]
  },
  {
   "cell_type": "code",
   "execution_count": 5,
   "metadata": {},
   "outputs": [
    {
     "name": "stdout",
     "output_type": "stream",
     "text": [
      "       DemAffl  DemAge  DemCluster  PromSpend  PromTime\n",
      "0         10.0    76.0        16.0   16000.00       4.0\n",
      "1          4.0    49.0        35.0    6000.00       5.0\n",
      "2          5.0    70.0        27.0       0.02       8.0\n",
      "3         10.0    65.0        51.0       0.01       7.0\n",
      "4         11.0    68.0         4.0       0.01       8.0\n",
      "...        ...     ...         ...        ...       ...\n",
      "22218     13.0    65.0         9.0    1500.00       5.0\n",
      "22219     15.0    73.0        34.0    6053.06      12.0\n",
      "22220      9.0    70.0        15.0    6000.00       5.0\n",
      "22221     11.0    66.0         8.0    5000.00       5.0\n",
      "22222      3.0    75.0        53.0    6000.00       2.0\n",
      "\n",
      "[22223 rows x 5 columns]\n"
     ]
    }
   ],
   "source": [
    "x = df[[c for c in df.columns if df[c].dtype.name != 'object' and c !=\"ID\"and c !=\"TargetBuy\" and c != \"TargetAmt\" ]]\n",
    "print(x)\n",
    "y = df.values[::,11]"
   ]
  },
  {
   "cell_type": "markdown",
   "metadata": {},
   "source": [
    "5. Обучаем решающее дерево с параметрами criterion = entropy, max_depth = 5"
   ]
  },
  {
   "cell_type": "code",
   "execution_count": 6,
   "metadata": {},
   "outputs": [
    {
     "data": {
      "text/plain": [
       "DecisionTreeClassifier(class_weight=None, criterion='entropy', max_depth=5,\n",
       "                       max_features=None, max_leaf_nodes=None,\n",
       "                       min_impurity_decrease=0.0, min_impurity_split=None,\n",
       "                       min_samples_leaf=1, min_samples_split=2,\n",
       "                       min_weight_fraction_leaf=0.0, presort=False,\n",
       "                       random_state=0, splitter='best')"
      ]
     },
     "execution_count": 6,
     "metadata": {},
     "output_type": "execute_result"
    }
   ],
   "source": [
    "X_train, X_test, y_train, y_test = train_test_split(x, y, test_size=0.3)\n",
    "\n",
    "y_train = y_train.astype(int)\n",
    "tree=DecisionTreeClassifier(max_depth=5, criterion = \"entropy\", random_state=0)\n",
    "tree.fit(X_train, y_train)"
   ]
  },
  {
   "cell_type": "markdown",
   "metadata": {
    "jupyter": {
     "source_hidden": true
    }
   },
   "source": [
    "5. Определяем точность на контроле"
   ]
  },
  {
   "cell_type": "code",
   "execution_count": 7,
   "metadata": {},
   "outputs": [
    {
     "data": {
      "text/plain": [
       "0.8024598770061497"
      ]
     },
     "execution_count": 7,
     "metadata": {},
     "output_type": "execute_result"
    }
   ],
   "source": [
    "y_test = y_test.astype(int)\n",
    "accuracy_score(y_test, tree.predict(X_test))"
   ]
  },
  {
   "cell_type": "markdown",
   "metadata": {},
   "source": [
    "6. Визуализация разделяющей поверхности "
   ]
  },
  {
   "cell_type": "code",
   "execution_count": 26,
   "metadata": {},
   "outputs": [
    {
     "data": {
      "text/plain": [
       "<matplotlib.collections.QuadMesh at 0x10c7a9e2a08>"
      ]
     },
     "execution_count": 26,
     "metadata": {},
     "output_type": "execute_result"
    },
    {
     "data": {
      "image/png": "[encoded data removed]",
      "text/plain": [
       "<Figure size 432x288 with 1 Axes>"
      ]
     },
     "metadata": {
      "needs_background": "light"
     },
     "output_type": "display_data"
    }
   ],
   "source": [
    "# Вспомогательную функцию, которая возвращает решетку для дальнейшей визуализации.\n",
    "def get_grid(data):\n",
    "    x_min, x_max = data.iloc[:, 0].min() - 1, data.iloc[:, 0].max() + 1\n",
    "    y_min, y_max = data.iloc[:, 1].min() - 1, data.iloc[:, 1].max() + 1\n",
    "    return np.meshgrid(np.arange(x_min, x_max, 0.01), np.arange(y_min, y_max, 0.01))\n",
    "\n",
    "x = df[['DemAffl', 'DemAge']]\n",
    "y = df.values[::,11]\n",
    "\n",
    "X_train, X_test, y_train, y_test = train_test_split(x, y, test_size=0.3)\n",
    "tree = DecisionTreeClassifier(criterion='entropy', max_depth=5, random_state=2)\n",
    "y_train = y_train.astype(int)\n",
    "# обучаем дерево\n",
    "tree.fit(X_train, y_train)\n",
    "\n",
    "#код для отображения разделяющей поверхности\n",
    "xx, yy = get_grid(X_train)\n",
    "predicted = tree.predict(np.c_[xx.ravel(), yy.ravel()]).reshape(xx.shape)\n",
    "plt.pcolormesh(xx, yy, predicted, cmap='autumn')"
   ]
  },
  {
   "cell_type": "markdown",
   "metadata": {},
   "source": [
    "7. Рассмотрим 4 различных значений глубины дерева и минимального числа объектов в листе"
   ]
  },
  {
   "cell_type": "markdown",
   "metadata": {},
   "source": [
    "###### max_depth = 6, min_samples_leaf = 2"
   ]
  },
  {
   "cell_type": "code",
   "execution_count": 8,
   "metadata": {},
   "outputs": [
    {
     "name": "stdout",
     "output_type": "stream",
     "text": [
      "0.8014099295035249\n"
     ]
    }
   ],
   "source": [
    "x = df[[c for c in df.columns if df[c].dtype.name != 'object' and c !=\"ID\"and c !=\"TargetBuy\" and c != \"TargetAmt\" ]]\n",
    "y = df.values[::,11]\n",
    "\n",
    "X_train, X_test, y_train, y_test = train_test_split(x, y, test_size=0.3)\n",
    "\n",
    "y_train = y_train.astype(int)\n",
    "tree=DecisionTreeClassifier(max_depth=6, min_samples_leaf = 2, random_state=1)\n",
    "tree.fit(X_train, y_train)\n",
    "\n",
    "y_test = y_test.astype(int)\n",
    "print(accuracy_score(y_test, tree.predict(X_test)))"
   ]
  },
  {
   "cell_type": "markdown",
   "metadata": {},
   "source": [
    "###### max_depth = 6, min_samples_leaf = 1"
   ]
  },
  {
   "cell_type": "code",
   "execution_count": 9,
   "metadata": {},
   "outputs": [
    {
     "name": "stdout",
     "output_type": "stream",
     "text": [
      "0.7910604469776511\n"
     ]
    }
   ],
   "source": [
    "X_train, X_test, y_train, y_test = train_test_split(x, y, test_size=0.3)\n",
    "\n",
    "y_train = y_train.astype(int)\n",
    "tree=DecisionTreeClassifier(max_depth=6, min_samples_leaf = 1, random_state=1)\n",
    "tree.fit(X_train, y_train)\n",
    "\n",
    "y_test = y_test.astype(int)\n",
    "print(accuracy_score(y_test, tree.predict(X_test)))"
   ]
  },
  {
   "cell_type": "markdown",
   "metadata": {},
   "source": [
    "###### max_depth = 20, min_samples_leaf = 1"
   ]
  },
  {
   "cell_type": "code",
   "execution_count": 10,
   "metadata": {},
   "outputs": [
    {
     "name": "stdout",
     "output_type": "stream",
     "text": [
      "0.7324133793310335\n"
     ]
    }
   ],
   "source": [
    "X_train, X_test, y_train, y_test = train_test_split(x, y, test_size=0.3)\n",
    "\n",
    "y_train = y_train.astype(int)\n",
    "tree=DecisionTreeClassifier(max_depth=20, min_samples_leaf = 1, random_state=1)\n",
    "tree.fit(X_train, y_train)\n",
    "\n",
    "y_test = y_test.astype(int)\n",
    "print(accuracy_score(y_test, tree.predict(X_test)))"
   ]
  },
  {
   "cell_type": "markdown",
   "metadata": {},
   "source": [
    "###### max_depth = 4, min_samples_leaf = 8"
   ]
  },
  {
   "cell_type": "code",
   "execution_count": 11,
   "metadata": {},
   "outputs": [
    {
     "name": "stdout",
     "output_type": "stream",
     "text": [
      "0.8020098995050248\n"
     ]
    }
   ],
   "source": [
    "X_train, X_test, y_train, y_test = train_test_split(x, y, test_size=0.3)\n",
    "\n",
    "y_train = y_train.astype(int)\n",
    "tree=DecisionTreeClassifier(max_depth=4, min_samples_leaf = 8, random_state=1)\n",
    "tree.fit(X_train, y_train)\n",
    "\n",
    "y_test = y_test.astype(int)\n",
    "print(accuracy_score(y_test, tree.predict(X_test)))"
   ]
  },
  {
   "cell_type": "markdown",
   "metadata": {},
   "source": [
    "### Как влияют на вид разделяющей поверхности и точности модели?"
   ]
  },
  {
   "cell_type": "markdown",
   "metadata": {},
   "source": [
    "Чем больше глубина дерева решений, тем точность модели становится меньше.\n",
    "Пример:\n",
    " - при max_depth = 6, min_samples_leaf = 1 \n",
    " (Точность: 0.7939103044847757 (79%))\n",
    " - при max_depth = 20, min_samples_leaf = 1\n",
    " (Точность: 0.71966401679916 (71%))"
   ]
  },
  {
   "cell_type": "markdown",
   "metadata": {},
   "source": [
    "8. Находим все столбцы с категориальными признаками "
   ]
  },
  {
   "cell_type": "code",
   "execution_count": 12,
   "metadata": {},
   "outputs": [
    {
     "name": "stdout",
     "output_type": "stream",
     "text": [
      "['DemClusterGroup', 'DemGender', 'DemReg', 'DemTVReg', 'PromClass']\n"
     ]
    }
   ],
   "source": [
    "categorical_columns = [c for c in df.columns if df[c].dtype.name == 'object']\n",
    "print(categorical_columns)"
   ]
  },
  {
   "cell_type": "markdown",
   "metadata": {},
   "source": [
    "9. Заменяем категориальные столбцы на бинарное кодирование"
   ]
  },
  {
   "cell_type": "code",
   "execution_count": 18,
   "metadata": {},
   "outputs": [
    {
     "data": {
      "text/html": [
       "<div>\n",
       "<style scoped>\n",
       "    .dataframe tbody tr th:only-of-type {\n",
       "        vertical-align: middle;\n",
       "    }\n",
       "\n",
       "    .dataframe tbody tr th {\n",
       "        vertical-align: top;\n",
       "    }\n",
       "\n",
       "    .dataframe thead th {\n",
       "        text-align: right;\n",
       "    }\n",
       "</style>\n",
       "<table border=\"1\" class=\"dataframe\">\n",
       "  <thead>\n",
       "    <tr style=\"text-align: right;\">\n",
       "      <th></th>\n",
       "      <th>ID</th>\n",
       "      <th>DemAffl</th>\n",
       "      <th>DemAge</th>\n",
       "      <th>DemCluster</th>\n",
       "      <th>DemClusterGroup</th>\n",
       "      <th>DemGender</th>\n",
       "      <th>DemReg</th>\n",
       "      <th>DemTVReg</th>\n",
       "      <th>PromClass</th>\n",
       "      <th>PromSpend</th>\n",
       "      <th>...</th>\n",
       "      <th>DemTVReg=C Scotland</th>\n",
       "      <th>DemTVReg=Ulster</th>\n",
       "      <th>DemTVReg=S West</th>\n",
       "      <th>DemTVReg=Yorkshire</th>\n",
       "      <th>DemTVReg=Border</th>\n",
       "      <th>DemTVReg=N Scot</th>\n",
       "      <th>PromClass=Gold</th>\n",
       "      <th>PromClass=Silver</th>\n",
       "      <th>PromClass=Tin</th>\n",
       "      <th>PromClass=Platinum</th>\n",
       "    </tr>\n",
       "  </thead>\n",
       "  <tbody>\n",
       "    <tr>\n",
       "      <td>0</td>\n",
       "      <td>140</td>\n",
       "      <td>10.0</td>\n",
       "      <td>76.0</td>\n",
       "      <td>16.0</td>\n",
       "      <td>C</td>\n",
       "      <td>U</td>\n",
       "      <td>Midlands</td>\n",
       "      <td>Wales &amp; West</td>\n",
       "      <td>Gold</td>\n",
       "      <td>16000.00</td>\n",
       "      <td>...</td>\n",
       "      <td>0</td>\n",
       "      <td>0</td>\n",
       "      <td>0</td>\n",
       "      <td>0</td>\n",
       "      <td>0</td>\n",
       "      <td>0</td>\n",
       "      <td>1</td>\n",
       "      <td>0</td>\n",
       "      <td>0</td>\n",
       "      <td>0</td>\n",
       "    </tr>\n",
       "    <tr>\n",
       "      <td>1</td>\n",
       "      <td>620</td>\n",
       "      <td>4.0</td>\n",
       "      <td>49.0</td>\n",
       "      <td>35.0</td>\n",
       "      <td>D</td>\n",
       "      <td>U</td>\n",
       "      <td>Midlands</td>\n",
       "      <td>Wales &amp; West</td>\n",
       "      <td>Gold</td>\n",
       "      <td>6000.00</td>\n",
       "      <td>...</td>\n",
       "      <td>0</td>\n",
       "      <td>0</td>\n",
       "      <td>0</td>\n",
       "      <td>0</td>\n",
       "      <td>0</td>\n",
       "      <td>0</td>\n",
       "      <td>1</td>\n",
       "      <td>0</td>\n",
       "      <td>0</td>\n",
       "      <td>0</td>\n",
       "    </tr>\n",
       "    <tr>\n",
       "      <td>2</td>\n",
       "      <td>868</td>\n",
       "      <td>5.0</td>\n",
       "      <td>70.0</td>\n",
       "      <td>27.0</td>\n",
       "      <td>D</td>\n",
       "      <td>F</td>\n",
       "      <td>Midlands</td>\n",
       "      <td>Wales &amp; West</td>\n",
       "      <td>Silver</td>\n",
       "      <td>0.02</td>\n",
       "      <td>...</td>\n",
       "      <td>0</td>\n",
       "      <td>0</td>\n",
       "      <td>0</td>\n",
       "      <td>0</td>\n",
       "      <td>0</td>\n",
       "      <td>0</td>\n",
       "      <td>0</td>\n",
       "      <td>1</td>\n",
       "      <td>0</td>\n",
       "      <td>0</td>\n",
       "    </tr>\n",
       "    <tr>\n",
       "      <td>3</td>\n",
       "      <td>1120</td>\n",
       "      <td>10.0</td>\n",
       "      <td>65.0</td>\n",
       "      <td>51.0</td>\n",
       "      <td>F</td>\n",
       "      <td>M</td>\n",
       "      <td>Midlands</td>\n",
       "      <td>Midlands</td>\n",
       "      <td>Tin</td>\n",
       "      <td>0.01</td>\n",
       "      <td>...</td>\n",
       "      <td>0</td>\n",
       "      <td>0</td>\n",
       "      <td>0</td>\n",
       "      <td>0</td>\n",
       "      <td>0</td>\n",
       "      <td>0</td>\n",
       "      <td>0</td>\n",
       "      <td>0</td>\n",
       "      <td>1</td>\n",
       "      <td>0</td>\n",
       "    </tr>\n",
       "    <tr>\n",
       "      <td>4</td>\n",
       "      <td>2313</td>\n",
       "      <td>11.0</td>\n",
       "      <td>68.0</td>\n",
       "      <td>4.0</td>\n",
       "      <td>A</td>\n",
       "      <td>F</td>\n",
       "      <td>Midlands</td>\n",
       "      <td>Midlands</td>\n",
       "      <td>Tin</td>\n",
       "      <td>0.01</td>\n",
       "      <td>...</td>\n",
       "      <td>0</td>\n",
       "      <td>0</td>\n",
       "      <td>0</td>\n",
       "      <td>0</td>\n",
       "      <td>0</td>\n",
       "      <td>0</td>\n",
       "      <td>0</td>\n",
       "      <td>0</td>\n",
       "      <td>1</td>\n",
       "      <td>0</td>\n",
       "    </tr>\n",
       "    <tr>\n",
       "      <td>...</td>\n",
       "      <td>...</td>\n",
       "      <td>...</td>\n",
       "      <td>...</td>\n",
       "      <td>...</td>\n",
       "      <td>...</td>\n",
       "      <td>...</td>\n",
       "      <td>...</td>\n",
       "      <td>...</td>\n",
       "      <td>...</td>\n",
       "      <td>...</td>\n",
       "      <td>...</td>\n",
       "      <td>...</td>\n",
       "      <td>...</td>\n",
       "      <td>...</td>\n",
       "      <td>...</td>\n",
       "      <td>...</td>\n",
       "      <td>...</td>\n",
       "      <td>...</td>\n",
       "      <td>...</td>\n",
       "      <td>...</td>\n",
       "      <td>...</td>\n",
       "    </tr>\n",
       "    <tr>\n",
       "      <td>22218</td>\n",
       "      <td>52834058</td>\n",
       "      <td>13.0</td>\n",
       "      <td>65.0</td>\n",
       "      <td>9.0</td>\n",
       "      <td>B</td>\n",
       "      <td>F</td>\n",
       "      <td>South East</td>\n",
       "      <td>London</td>\n",
       "      <td>Silver</td>\n",
       "      <td>1500.00</td>\n",
       "      <td>...</td>\n",
       "      <td>0</td>\n",
       "      <td>0</td>\n",
       "      <td>0</td>\n",
       "      <td>0</td>\n",
       "      <td>0</td>\n",
       "      <td>0</td>\n",
       "      <td>0</td>\n",
       "      <td>1</td>\n",
       "      <td>0</td>\n",
       "      <td>0</td>\n",
       "    </tr>\n",
       "    <tr>\n",
       "      <td>22219</td>\n",
       "      <td>52834376</td>\n",
       "      <td>15.0</td>\n",
       "      <td>73.0</td>\n",
       "      <td>34.0</td>\n",
       "      <td>D</td>\n",
       "      <td>U</td>\n",
       "      <td>South East</td>\n",
       "      <td>S &amp; S East</td>\n",
       "      <td>Gold</td>\n",
       "      <td>6053.06</td>\n",
       "      <td>...</td>\n",
       "      <td>0</td>\n",
       "      <td>0</td>\n",
       "      <td>0</td>\n",
       "      <td>0</td>\n",
       "      <td>0</td>\n",
       "      <td>0</td>\n",
       "      <td>1</td>\n",
       "      <td>0</td>\n",
       "      <td>0</td>\n",
       "      <td>0</td>\n",
       "    </tr>\n",
       "    <tr>\n",
       "      <td>22220</td>\n",
       "      <td>52837057</td>\n",
       "      <td>9.0</td>\n",
       "      <td>70.0</td>\n",
       "      <td>15.0</td>\n",
       "      <td>B</td>\n",
       "      <td>F</td>\n",
       "      <td>North</td>\n",
       "      <td>Yorkshire</td>\n",
       "      <td>Gold</td>\n",
       "      <td>6000.00</td>\n",
       "      <td>...</td>\n",
       "      <td>0</td>\n",
       "      <td>0</td>\n",
       "      <td>0</td>\n",
       "      <td>1</td>\n",
       "      <td>0</td>\n",
       "      <td>0</td>\n",
       "      <td>1</td>\n",
       "      <td>0</td>\n",
       "      <td>0</td>\n",
       "      <td>0</td>\n",
       "    </tr>\n",
       "    <tr>\n",
       "      <td>22221</td>\n",
       "      <td>52838096</td>\n",
       "      <td>11.0</td>\n",
       "      <td>66.0</td>\n",
       "      <td>8.0</td>\n",
       "      <td>B</td>\n",
       "      <td>F</td>\n",
       "      <td>North</td>\n",
       "      <td>N West</td>\n",
       "      <td>Silver</td>\n",
       "      <td>5000.00</td>\n",
       "      <td>...</td>\n",
       "      <td>0</td>\n",
       "      <td>0</td>\n",
       "      <td>0</td>\n",
       "      <td>0</td>\n",
       "      <td>0</td>\n",
       "      <td>0</td>\n",
       "      <td>0</td>\n",
       "      <td>1</td>\n",
       "      <td>0</td>\n",
       "      <td>0</td>\n",
       "    </tr>\n",
       "    <tr>\n",
       "      <td>22222</td>\n",
       "      <td>52856469</td>\n",
       "      <td>3.0</td>\n",
       "      <td>75.0</td>\n",
       "      <td>53.0</td>\n",
       "      <td>F</td>\n",
       "      <td>nan</td>\n",
       "      <td>South West</td>\n",
       "      <td>S West</td>\n",
       "      <td>Gold</td>\n",
       "      <td>6000.00</td>\n",
       "      <td>...</td>\n",
       "      <td>0</td>\n",
       "      <td>0</td>\n",
       "      <td>1</td>\n",
       "      <td>0</td>\n",
       "      <td>0</td>\n",
       "      <td>0</td>\n",
       "      <td>1</td>\n",
       "      <td>0</td>\n",
       "      <td>0</td>\n",
       "      <td>0</td>\n",
       "    </tr>\n",
       "  </tbody>\n",
       "</table>\n",
       "<p>22223 rows × 90 columns</p>\n",
       "</div>"
      ],
      "text/plain": [
       "             ID  DemAffl  DemAge  DemCluster DemClusterGroup DemGender  \\\n",
       "0           140     10.0    76.0        16.0               C         U   \n",
       "1           620      4.0    49.0        35.0               D         U   \n",
       "2           868      5.0    70.0        27.0               D         F   \n",
       "3          1120     10.0    65.0        51.0               F         M   \n",
       "4          2313     11.0    68.0         4.0               A         F   \n",
       "...         ...      ...     ...         ...             ...       ...   \n",
       "22218  52834058     13.0    65.0         9.0               B         F   \n",
       "22219  52834376     15.0    73.0        34.0               D         U   \n",
       "22220  52837057      9.0    70.0        15.0               B         F   \n",
       "22221  52838096     11.0    66.0         8.0               B         F   \n",
       "22222  52856469      3.0    75.0        53.0               F       nan   \n",
       "\n",
       "           DemReg      DemTVReg PromClass  PromSpend  ...  \\\n",
       "0        Midlands  Wales & West      Gold   16000.00  ...   \n",
       "1        Midlands  Wales & West      Gold    6000.00  ...   \n",
       "2        Midlands  Wales & West    Silver       0.02  ...   \n",
       "3        Midlands      Midlands       Tin       0.01  ...   \n",
       "4        Midlands      Midlands       Tin       0.01  ...   \n",
       "...           ...           ...       ...        ...  ...   \n",
       "22218  South East        London    Silver    1500.00  ...   \n",
       "22219  South East    S & S East      Gold    6053.06  ...   \n",
       "22220       North     Yorkshire      Gold    6000.00  ...   \n",
       "22221       North        N West    Silver    5000.00  ...   \n",
       "22222  South West        S West      Gold    6000.00  ...   \n",
       "\n",
       "       DemTVReg=C Scotland  DemTVReg=Ulster  DemTVReg=S West  \\\n",
       "0                        0                0                0   \n",
       "1                        0                0                0   \n",
       "2                        0                0                0   \n",
       "3                        0                0                0   \n",
       "4                        0                0                0   \n",
       "...                    ...              ...              ...   \n",
       "22218                    0                0                0   \n",
       "22219                    0                0                0   \n",
       "22220                    0                0                0   \n",
       "22221                    0                0                0   \n",
       "22222                    0                0                1   \n",
       "\n",
       "       DemTVReg=Yorkshire  DemTVReg=Border  DemTVReg=N Scot  PromClass=Gold  \\\n",
       "0                       0                0                0               1   \n",
       "1                       0                0                0               1   \n",
       "2                       0                0                0               0   \n",
       "3                       0                0                0               0   \n",
       "4                       0                0                0               0   \n",
       "...                   ...              ...              ...             ...   \n",
       "22218                   0                0                0               0   \n",
       "22219                   0                0                0               1   \n",
       "22220                   1                0                0               1   \n",
       "22221                   0                0                0               0   \n",
       "22222                   0                0                0               1   \n",
       "\n",
       "       PromClass=Silver  PromClass=Tin  PromClass=Platinum  \n",
       "0                     0              0                   0  \n",
       "1                     0              0                   0  \n",
       "2                     1              0                   0  \n",
       "3                     0              1                   0  \n",
       "4                     0              1                   0  \n",
       "...                 ...            ...                 ...  \n",
       "22218                 1              0                   0  \n",
       "22219                 0              0                   0  \n",
       "22220                 0              0                   0  \n",
       "22221                 1              0                   0  \n",
       "22222                 0              0                   0  \n",
       "\n",
       "[22223 rows x 90 columns]"
      ]
     },
     "execution_count": 18,
     "metadata": {},
     "output_type": "execute_result"
    }
   ],
   "source": [
    "def code_myohe(data, feature):\n",
    "    for i in data[feature].unique():\n",
    "        data[feature + \"=\" + i] = (data[feature] == i).astype(int)\n",
    "        \n",
    "le = LabelEncoder()\n",
    "for c in categorical_columns:\n",
    "    df[c] = df[c].astype(str)\n",
    "    le.fit(df[c])\n",
    "    df[df[c].name +'N'] = le.fit_transform(df[c])\n",
    "    code_myohe(df, c)\n",
    "    \n",
    "df"
   ]
  },
  {
   "cell_type": "markdown",
   "metadata": {},
   "source": [
    "### Удается ли с помощью новых признаков повысить качество классификации?"
   ]
  },
  {
   "cell_type": "markdown",
   "metadata": {},
   "source": [
    "Используя бинарное кодирование, мы можем правильно описать частоты нашей выборки. Это позволит делать более правильные дальнейшие выводы и предположения"
   ]
  }
 ],
 "metadata": {
  "kernelspec": {
   "display_name": "Python 3",
   "language": "python",
   "name": "python3"
  },
  "language_info": {
   "codemirror_mode": {
    "name": "ipython",
    "version": 3
   },
   "file_extension": ".py",
   "mimetype": "text/x-python",
   "name": "python",
   "nbconvert_exporter": "python",
   "pygments_lexer": "ipython3",
   "version": "3.7.4"
  }
 },
 "nbformat": 4,
 "nbformat_minor": 4
}
